{
 "cells": [
  {
   "cell_type": "code",
   "execution_count": 1,
   "metadata": {},
   "outputs": [],
   "source": [
    "import pandas as pd"
   ]
  },
  {
   "cell_type": "code",
   "execution_count": 2,
   "metadata": {},
   "outputs": [
    {
     "data": {
      "text/html": [
       "<div>\n",
       "<style scoped>\n",
       "    .dataframe tbody tr th:only-of-type {\n",
       "        vertical-align: middle;\n",
       "    }\n",
       "\n",
       "    .dataframe tbody tr th {\n",
       "        vertical-align: top;\n",
       "    }\n",
       "\n",
       "    .dataframe thead th {\n",
       "        text-align: right;\n",
       "    }\n",
       "</style>\n",
       "<table border=\"1\" class=\"dataframe\">\n",
       "  <thead>\n",
       "    <tr style=\"text-align: right;\">\n",
       "      <th></th>\n",
       "      <th>Animal ID</th>\n",
       "      <th>Name</th>\n",
       "      <th>DateTime</th>\n",
       "      <th>MonthYear</th>\n",
       "      <th>Date of Birth</th>\n",
       "      <th>Outcome Type</th>\n",
       "      <th>Outcome Subtype</th>\n",
       "      <th>Animal Type</th>\n",
       "      <th>Sex upon Outcome</th>\n",
       "      <th>Age upon Outcome</th>\n",
       "      <th>Breed</th>\n",
       "      <th>Color</th>\n",
       "    </tr>\n",
       "  </thead>\n",
       "  <tbody>\n",
       "    <tr>\n",
       "      <th>0</th>\n",
       "      <td>A771830</td>\n",
       "      <td>*Bradley</td>\n",
       "      <td>12/27/2018 01:25:00 PM</td>\n",
       "      <td>12/27/2018 01:25:00 PM</td>\n",
       "      <td>05/10/2017</td>\n",
       "      <td>Adoption</td>\n",
       "      <td>Foster</td>\n",
       "      <td>Dog</td>\n",
       "      <td>Neutered Male</td>\n",
       "      <td>1 year</td>\n",
       "      <td>Pit Bull Mix</td>\n",
       "      <td>White/Blue</td>\n",
       "    </tr>\n",
       "    <tr>\n",
       "      <th>1</th>\n",
       "      <td>A779576</td>\n",
       "      <td>*Rajah</td>\n",
       "      <td>10/01/2018 05:03:00 PM</td>\n",
       "      <td>10/01/2018 05:03:00 PM</td>\n",
       "      <td>04/18/2018</td>\n",
       "      <td>Adoption</td>\n",
       "      <td>NaN</td>\n",
       "      <td>Cat</td>\n",
       "      <td>Neutered Male</td>\n",
       "      <td>5 months</td>\n",
       "      <td>Domestic Shorthair Mix</td>\n",
       "      <td>Brown Tabby</td>\n",
       "    </tr>\n",
       "    <tr>\n",
       "      <th>2</th>\n",
       "      <td>A741715</td>\n",
       "      <td>*Pebbles</td>\n",
       "      <td>01/11/2017 06:17:00 PM</td>\n",
       "      <td>01/11/2017 06:17:00 PM</td>\n",
       "      <td>03/07/2016</td>\n",
       "      <td>Adoption</td>\n",
       "      <td>NaN</td>\n",
       "      <td>Cat</td>\n",
       "      <td>Spayed Female</td>\n",
       "      <td>10 months</td>\n",
       "      <td>Domestic Shorthair Mix</td>\n",
       "      <td>Calico</td>\n",
       "    </tr>\n",
       "    <tr>\n",
       "      <th>3</th>\n",
       "      <td>A658751</td>\n",
       "      <td>Benji</td>\n",
       "      <td>11/13/2016 01:38:00 PM</td>\n",
       "      <td>11/13/2016 01:38:00 PM</td>\n",
       "      <td>07/14/2011</td>\n",
       "      <td>Return to Owner</td>\n",
       "      <td>NaN</td>\n",
       "      <td>Dog</td>\n",
       "      <td>Neutered Male</td>\n",
       "      <td>5 years</td>\n",
       "      <td>Border Terrier Mix</td>\n",
       "      <td>Tan</td>\n",
       "    </tr>\n",
       "    <tr>\n",
       "      <th>4</th>\n",
       "      <td>A721285</td>\n",
       "      <td>NaN</td>\n",
       "      <td>02/24/2016 02:42:00 PM</td>\n",
       "      <td>02/24/2016 02:42:00 PM</td>\n",
       "      <td>02/24/2014</td>\n",
       "      <td>Euthanasia</td>\n",
       "      <td>Suffering</td>\n",
       "      <td>Other</td>\n",
       "      <td>Unknown</td>\n",
       "      <td>2 years</td>\n",
       "      <td>Raccoon Mix</td>\n",
       "      <td>Black/Gray</td>\n",
       "    </tr>\n",
       "  </tbody>\n",
       "</table>\n",
       "</div>"
      ],
      "text/plain": [
       "  Animal ID      Name                DateTime               MonthYear  \\\n",
       "0   A771830  *Bradley  12/27/2018 01:25:00 PM  12/27/2018 01:25:00 PM   \n",
       "1   A779576    *Rajah  10/01/2018 05:03:00 PM  10/01/2018 05:03:00 PM   \n",
       "2   A741715  *Pebbles  01/11/2017 06:17:00 PM  01/11/2017 06:17:00 PM   \n",
       "3   A658751     Benji  11/13/2016 01:38:00 PM  11/13/2016 01:38:00 PM   \n",
       "4   A721285       NaN  02/24/2016 02:42:00 PM  02/24/2016 02:42:00 PM   \n",
       "\n",
       "  Date of Birth     Outcome Type Outcome Subtype Animal Type Sex upon Outcome  \\\n",
       "0    05/10/2017         Adoption          Foster         Dog    Neutered Male   \n",
       "1    04/18/2018         Adoption             NaN         Cat    Neutered Male   \n",
       "2    03/07/2016         Adoption             NaN         Cat    Spayed Female   \n",
       "3    07/14/2011  Return to Owner             NaN         Dog    Neutered Male   \n",
       "4    02/24/2014       Euthanasia       Suffering       Other          Unknown   \n",
       "\n",
       "  Age upon Outcome                   Breed        Color  \n",
       "0           1 year            Pit Bull Mix   White/Blue  \n",
       "1         5 months  Domestic Shorthair Mix  Brown Tabby  \n",
       "2        10 months  Domestic Shorthair Mix       Calico  \n",
       "3          5 years      Border Terrier Mix          Tan  \n",
       "4          2 years             Raccoon Mix   Black/Gray  "
      ]
     },
     "execution_count": 2,
     "metadata": {},
     "output_type": "execute_result"
    }
   ],
   "source": [
    "df = pd.read_csv('https://query.data.world/s/d5ko4ixgkjvj5xbxdlemp2fjqquof4')\n",
    "df.head()"
   ]
  },
  {
   "cell_type": "code",
   "execution_count": 3,
   "metadata": {},
   "outputs": [
    {
     "data": {
      "text/plain": [
       "Animal ID           object\n",
       "Name                object\n",
       "DateTime            object\n",
       "MonthYear           object\n",
       "Date of Birth       object\n",
       "Outcome Type        object\n",
       "Outcome Subtype     object\n",
       "Animal Type         object\n",
       "Sex upon Outcome    object\n",
       "Age upon Outcome    object\n",
       "Breed               object\n",
       "Color               object\n",
       "dtype: object"
      ]
     },
     "execution_count": 3,
     "metadata": {},
     "output_type": "execute_result"
    }
   ],
   "source": [
    "df.dtypes"
   ]
  },
  {
   "cell_type": "code",
   "execution_count": 4,
   "metadata": {},
   "outputs": [
    {
     "data": {
      "text/plain": [
       "Index(['Animal ID', 'Name', 'DateTime', 'MonthYear', 'Date of Birth',\n",
       "       'Outcome Type', 'Outcome Subtype', 'Animal Type', 'Sex upon Outcome',\n",
       "       'Age upon Outcome', 'Breed', 'Color'],\n",
       "      dtype='object')"
      ]
     },
     "execution_count": 4,
     "metadata": {},
     "output_type": "execute_result"
    }
   ],
   "source": [
    "df.columns"
   ]
  },
  {
   "cell_type": "code",
   "execution_count": 5,
   "metadata": {},
   "outputs": [
    {
     "data": {
      "text/plain": [
       "count          95367\n",
       "unique          6312\n",
       "top       09/01/2015\n",
       "freq             118\n",
       "Name: Date of Birth, dtype: object"
      ]
     },
     "execution_count": 5,
     "metadata": {},
     "output_type": "execute_result"
    }
   ],
   "source": [
    "df['Date of Birth'].describe()"
   ]
  },
  {
   "cell_type": "code",
   "execution_count": 1,
   "metadata": {},
   "outputs": [
    {
     "data": {
      "text/plain": [
       "array([['A771830', '*Bradley', '12/27/2018 01:25:00 PM', ..., '1 year',\n",
       "        'Pit Bull Mix', 'White/Blue'],\n",
       "       ['A779576', '*Rajah', '10/01/2018 05:03:00 PM', ..., '5 months',\n",
       "        'Domestic Shorthair Mix', 'Brown Tabby'],\n",
       "       ['A741715', '*Pebbles', '01/11/2017 06:17:00 PM', ...,\n",
       "        '10 months', 'Domestic Shorthair Mix', 'Calico'],\n",
       "       ...,\n",
       "       ['A759491', 'Charlie', '01/31/2019 04:17:00 PM', ..., '6 years',\n",
       "        'Pug Mix', 'Tan/Black'],\n",
       "       ['A722968', 'Glacier', '01/31/2019 04:59:00 PM', ..., '3 years',\n",
       "        'Siamese Mix', 'Seal Point'],\n",
       "       ['A780441', 'Junior', '01/31/2019 04:14:00 PM', ..., '2 years',\n",
       "        'Pit Bull Mix', 'Brown/Fawn']], dtype=object)"
      ]
     },
     "execution_count": 1,
     "metadata": {},
     "output_type": "execute_result"
    }
   ],
   "source": [
    "import pandas as pd\n",
    "import numpy as np\n",
    "df=pd.read_csv('https://query.data.world/s/d5ko4ixgkjvj5xbxdlemp2fjqquof4')\n",
    "L=np.asarray(df)\n",
    "L"
   ]
  },
  {
   "cell_type": "code",
   "execution_count": 8,
   "metadata": {},
   "outputs": [
    {
     "data": {
      "text/plain": [
       "array([['Animal ID,Name,DateTime,MonthYear,Date of Birth,Outcome Type,Outcome Subtype,Animal Type,Sex upon Outcome,Age upon Outcome,Breed,Color'],\n",
       "       ['A771830,*Bradley,12/27/2018 01:25:00 PM,12/27/2018 01:25:00 PM,05/10/2017,Adoption,Foster,Dog,Neutered Male,1 year,Pit Bull Mix,White/Blue'],\n",
       "       ['A779576,*Rajah,10/01/2018 05:03:00 PM,10/01/2018 05:03:00 PM,04/18/2018,Adoption,,Cat,Neutered Male,5 months,Domestic Shorthair Mix,Brown Tabby'],\n",
       "       ...,\n",
       "       ['A759491,Charlie,01/31/2019 04:17:00 PM,01/31/2019 04:17:00 PM,10/03/2012,Return to Owner,,Dog,Neutered Male,6 years,Pug Mix,Tan/Black'],\n",
       "       ['A722968,Glacier,01/31/2019 04:59:00 PM,01/31/2019 04:59:00 PM,03/24/2015,Adoption,,Cat,Neutered Male,3 years,Siamese Mix,Seal Point'],\n",
       "       ['A780441,Junior,01/31/2019 04:14:00 PM,01/31/2019 04:14:00 PM,09/15/2016,Euthanasia,Aggressive,Dog,Neutered Male,2 years,Pit Bull Mix,Brown/Fawn']],\n",
       "      dtype=object)"
      ]
     },
     "execution_count": 8,
     "metadata": {},
     "output_type": "execute_result"
    }
   ],
   "source": [
    "import csv\n",
    "with open(\"austin-animal-center-outcomes-1.csv\", 'r') as f:\n",
    "    data = list(csv.reader(f, delimiter=\";\"))\n",
    "\n",
    "import numpy as np\n",
    "data = np.array(data, dtype=np.object)\n",
    "data"
   ]
  },
  {
   "cell_type": "code",
   "execution_count": 2,
   "metadata": {},
   "outputs": [
    {
     "data": {
      "text/plain": [
       "array(['A779576,*Rajah,10/01/2018 05:03:00 PM,10/01/2018 05:03:00 PM,04/18/2018,Adoption,,Cat,Neutered Male,5 months,Domestic Shorthair Mix,Brown Tabby'],\n",
       "      dtype=object)"
      ]
     },
     "execution_count": 2,
     "metadata": {},
     "output_type": "execute_result"
    }
   ],
   "source": [
    "import csv\n",
    "with open(\"austin-animal-center-outcomes-1.csv\", 'r') as f:\n",
    "    data = list(csv.reader(f, delimiter=\";\"))\n",
    "\n",
    "import numpy as np\n",
    "data = np.array(data, dtype=np.object)\n",
    "data[2]"
   ]
  },
  {
   "cell_type": "code",
   "execution_count": 1,
   "metadata": {},
   "outputs": [
    {
     "data": {
      "image/png": "[encoded data removed]",
      "text/plain": [
       "<Figure size 432x288 with 1 Axes>"
      ]
     },
     "metadata": {},
     "output_type": "display_data"
    }
   ],
   "source": [
    "import pandas as pd\n",
    "import matplotlib.pyplot as plt\n",
    " \n",
    "datos = pd.read_csv(\"austin-animal-center-outcomes-1.csv\")\n",
    "\n",
    "df = datos[[\"Animal Type\",\"Sex upon Outcome\", \"Age upon Outcome\"]]\n",
    " \n",
    "df = datos.rename(columns={\n",
    "\t\"Animal Type\":\"TIPO\",\n",
    "\t\"Sex upon Outcome\":\"SEXO\",\t\n",
    "\t\"Age upon Outcome\":\"Edad al momento del resultado\",\n",
    "\t\n",
    "})\n",
    "df.SEXO.value_counts().plot.pie()\n",
    "plt.show()"
   ]
  },
  {
   "cell_type": "code",
   "execution_count": null,
   "metadata": {},
   "outputs": [],
   "source": []
  }
 ],
 "metadata": {
  "kernelspec": {
   "display_name": "Python 3",
   "language": "python",
   "name": "python3"
  },
  "language_info": {
   "codemirror_mode": {
    "name": "ipython",
    "version": 3
   },
   "file_extension": ".py",
   "mimetype": "text/x-python",
   "name": "python",
   "nbconvert_exporter": "python",
   "pygments_lexer": "ipython3",
   "version": "3.7.6"
  }
 },
 "nbformat": 4,
 "nbformat_minor": 4
}
